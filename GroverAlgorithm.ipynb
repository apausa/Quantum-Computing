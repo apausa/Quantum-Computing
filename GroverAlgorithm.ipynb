{
 "cells": [
  {
   "cell_type": "markdown",
   "metadata": {},
   "source": [
    "# Grover's Algorithm"
   ]
  },
  {
   "cell_type": "markdown",
   "metadata": {},
   "source": [
    "*Grover's algorithm* is a quantum search algorithm to find a specific item in an unsorted database. It is considered to be one of the algorithm which shows the quantum speedup over the classical algorithm based on the quantum parallelism and superposition. \n",
    "\n",
    "In this tutorial, we will have a look at the Grover's algorithm step by step for $n = 2$ qubit case. "
   ]
  },
  {
   "cell_type": "code",
   "execution_count": 17,
   "metadata": {},
   "outputs": [
    {
     "name": "stdout",
     "output_type": "stream",
     "text": [
      "Requirement already satisfied: qiskit in /opt/homebrew/lib/python3.11/site-packages (0.44.0)\n",
      "Requirement already satisfied: qiskit-terra==0.25.0 in /opt/homebrew/lib/python3.11/site-packages (from qiskit) (0.25.0)\n",
      "Requirement already satisfied: rustworkx>=0.13.0 in /opt/homebrew/lib/python3.11/site-packages (from qiskit-terra==0.25.0->qiskit) (0.13.0)\n",
      "Requirement already satisfied: numpy>=1.17 in /opt/homebrew/lib/python3.11/site-packages (from qiskit-terra==0.25.0->qiskit) (1.23.5)\n",
      "Requirement already satisfied: ply>=3.10 in /opt/homebrew/lib/python3.11/site-packages (from qiskit-terra==0.25.0->qiskit) (3.11)\n",
      "Requirement already satisfied: psutil>=5 in /Users/pablo/Library/Python/3.11/lib/python/site-packages (from qiskit-terra==0.25.0->qiskit) (5.9.5)\n",
      "Requirement already satisfied: scipy>=1.5 in /opt/homebrew/lib/python3.11/site-packages (from qiskit-terra==0.25.0->qiskit) (1.11.1)\n",
      "Requirement already satisfied: sympy>=1.3 in /opt/homebrew/lib/python3.11/site-packages (from qiskit-terra==0.25.0->qiskit) (1.12)\n",
      "Requirement already satisfied: dill>=0.3 in /opt/homebrew/lib/python3.11/site-packages (from qiskit-terra==0.25.0->qiskit) (0.3.7)\n",
      "Requirement already satisfied: python-dateutil>=2.8.0 in /Users/pablo/Library/Python/3.11/lib/python/site-packages (from qiskit-terra==0.25.0->qiskit) (2.8.2)\n",
      "Requirement already satisfied: stevedore>=3.0.0 in /opt/homebrew/lib/python3.11/site-packages (from qiskit-terra==0.25.0->qiskit) (5.1.0)\n",
      "Requirement already satisfied: symengine<0.10,>=0.9 in /opt/homebrew/lib/python3.11/site-packages (from qiskit-terra==0.25.0->qiskit) (0.9.2)\n",
      "Requirement already satisfied: six>=1.5 in /opt/homebrew/lib/python3.11/site-packages (from python-dateutil>=2.8.0->qiskit-terra==0.25.0->qiskit) (1.16.0)\n",
      "Requirement already satisfied: pbr!=2.1.0,>=2.0.0 in /opt/homebrew/lib/python3.11/site-packages (from stevedore>=3.0.0->qiskit-terra==0.25.0->qiskit) (5.11.1)\n",
      "Requirement already satisfied: mpmath>=0.19 in /opt/homebrew/lib/python3.11/site-packages (from sympy>=1.3->qiskit-terra==0.25.0->qiskit) (1.3.0)\n",
      "\n",
      "\u001b[1m[\u001b[0m\u001b[34;49mnotice\u001b[0m\u001b[1;39;49m]\u001b[0m\u001b[39;49m A new release of pip is available: \u001b[0m\u001b[31;49m23.0.1\u001b[0m\u001b[39;49m -> \u001b[0m\u001b[32;49m23.2.1\u001b[0m\n",
      "\u001b[1m[\u001b[0m\u001b[34;49mnotice\u001b[0m\u001b[1;39;49m]\u001b[0m\u001b[39;49m To update, run: \u001b[0m\u001b[32;49mpython3.11 -m pip install --upgrade pip\u001b[0m\n",
      "Note: you may need to restart the kernel to use updated packages.\n"
     ]
    }
   ],
   "source": [
    "%pip install qiskit --upgrade "
   ]
  },
  {
   "cell_type": "markdown",
   "metadata": {},
   "source": [
    "### Import packages"
   ]
  },
  {
   "cell_type": "code",
   "execution_count": 18,
   "metadata": {},
   "outputs": [],
   "source": [
    "from qiskit import QuantumCircuit,  Aer\n",
    "\n",
    "from math import sqrt, floor"
   ]
  },
  {
   "cell_type": "code",
   "execution_count": 19,
   "metadata": {},
   "outputs": [],
   "source": [
    "simulator = Aer.get_backend(\"statevector_simulator\")"
   ]
  },
  {
   "cell_type": "markdown",
   "metadata": {},
   "source": [
    "### Step1. Initialization of the circuit \n",
    "\n",
    "To start with, we make an equiprobable superposition of all possible $N = 2^n$ states using *Hadamard gates* on $n$ qubits. \n",
    "$$\n",
    "|s\\rangle = H^{\\otimes n}|0\\rangle^n = \\frac{1}{\\sqrt{N}} \\sum_{x=0}^{N- 1} |x\\ = |\\psi_0\\rangle\n",
    "$$\n",
    "\n",
    "\n",
    "__Geometric interetation__ Let us call $|t\\rangle$ the target state and $|r\\rangle$ the state such that $ |r\\rangle \\perp |t\\rangle$ and $ |s\\rangle \\in Span\\{|t\\rangle, |r\\rangle\\}$. We can also write down $|s\\rangle$ in terms of $|t\\rangle$ and $|r\\rangle$ as : \n",
    "$$\n",
    "|s\\rangle = \\sin \\theta |t\\rangle + \\cos \\theta |r\\rangle. \n",
    "$$\n",
    "\n",
    "with $\\theta = \\arcsin \\langle s | t \\rangle = \\arcsin \\frac{1}{\\sqrt{N}} $. \n",
    "\n",
    "<img src=\"images/grover1.jpg\" alt=\"grover1\" width=\"300\"/>\n",
    "\n"
   ]
  },
  {
   "cell_type": "code",
   "execution_count": 20,
   "metadata": {},
   "outputs": [],
   "source": [
    "n_qubits = 2"
   ]
  },
  {
   "cell_type": "code",
   "execution_count": 21,
   "metadata": {},
   "outputs": [],
   "source": [
    "def initialization(qc) : \n",
    "    # Create an equiprobable superposition of all possible states \n",
    "    ###### To do ######\n",
    "    for i in range(n_qubits): qc.h(i)\n",
    "    \n",
    "    ###################\n",
    "    return qc\n"
   ]
  },
  {
   "cell_type": "code",
   "execution_count": 22,
   "metadata": {},
   "outputs": [
    {
     "data": {
      "image/png": "[encoded data removed]",
      "text/plain": [
       "<Figure size 203.683x200.667 with 1 Axes>"
      ]
     },
     "execution_count": 22,
     "metadata": {},
     "output_type": "execute_result"
    }
   ],
   "source": [
    "circuit = QuantumCircuit(n_qubits)\n",
    "\n",
    "circuit = initialization(circuit)\n",
    "circuit.draw(output = 'mpl')"
   ]
  },
  {
   "cell_type": "markdown",
   "metadata": {},
   "source": [
    "### Step2. Oracle\n",
    "\n",
    "In Grover's algorithm, the *oracle* function aims to mark the target item as a *special* state by inversing its phase. For example, let us consider the target state $|t\\rangle = |01\\rangle$ in $n = 2$ qubits case. Then, the oracle will transform \n",
    "\n",
    "$$|\\psi_0\\rangle = |00\\rangle + |01\\rangle + |10\\rangle + |11\\rangle$$\n",
    "\n",
    "into \n",
    "$$\n",
    "|\\psi_1\\rangle = \\frac{1}{2}(|00\\rangle - |01\\rangle + |10\\rangle + |11\\rangle)\n",
    "$$\n",
    "\n",
    "__Geometric interetation__ Geometrically, the orcale reflects the state $|\\psi_0\\rangle = |s\\rangle $ about $|r\\rangle$ axis, making the phase of $|t\\rangle$ to be negative :  \n",
    "$$\n",
    "|\\psi_1\\rangle = -\\sin \\theta |t\\rangle + \\cos \\theta |r\\rangle \n",
    "$$\n",
    "\n",
    "<img src=\"images/grover2.jpg\" alt=\"grover2\" width=\"300\"/>"
   ]
  },
  {
   "cell_type": "code",
   "execution_count": 23,
   "metadata": {},
   "outputs": [],
   "source": [
    "# Oracle for 2 qubits\n",
    "def Uw(qc = QuantumCircuit, target = str) -> QuantumCircuit : \n",
    "    if len(target) == 2:\n",
    "        if (target.count('0') + target.count('1') == len(target)) : \n",
    "            if target[0] == '0' : \n",
    "                qc.s(0)\n",
    "            if target[1] == '0' : \n",
    "                qc.s(1)\n",
    "            qc.cz(0,1)\n",
    "\n",
    "            if target[0] == '0' : \n",
    "                qc.s(0)\n",
    "            if target[1] == '0' : \n",
    "                qc.s(1)\n",
    "                \n",
    "            return qc\n",
    "        else  : \n",
    "            raise ValueError(\"Target state not binary\")\n",
    "    else :  \n",
    "        raise NotImplementedError(\"Oracle implemented for two qubits\")"
   ]
  },
  {
   "cell_type": "code",
   "execution_count": 24,
   "metadata": {},
   "outputs": [
    {
     "name": "stdout",
     "output_type": "stream",
     "text": [
      "Statevector([ 0.5+0.j, -0.5-0.j,  0.5+0.j,  0.5+0.j],\n",
      "            dims=(2, 2))\n"
     ]
    },
    {
     "data": {
      "image/png": "[encoded data removed]",
      "text/plain": [
       "<Figure size 454.517x200.667 with 1 Axes>"
      ]
     },
     "execution_count": 24,
     "metadata": {},
     "output_type": "execute_result"
    }
   ],
   "source": [
    "# Test oracles\n",
    "\n",
    "target_state = '01' \n",
    "\n",
    "circuit = QuantumCircuit(n_qubits) \n",
    "circuit = initialization(circuit)\n",
    "cirucit = Uw(circuit, target_state)\n",
    "\n",
    "job = simulator.run(circuit)\n",
    "\n",
    "# Execute the job\n",
    "result = job.result() \n",
    "\n",
    "state = result.get_statevector(circuit, decimals = 4)\n",
    "print(state)\n",
    "\n",
    "circuit.draw(output = 'mpl')"
   ]
  },
  {
   "cell_type": "markdown",
   "metadata": {},
   "source": [
    "### Step3. Amplitude Amplification"
   ]
  },
  {
   "cell_type": "markdown",
   "metadata": {},
   "source": [
    "\n",
    "$$\n",
    "U_s = 2|s\\rangle\\langle s|-I \n",
    "$$\n",
    "where $|s\\rangle = \\frac{1}{\\sqrt{N}} \\sum_{x=0}^{N- 1} |x\\rangle$ for $N = 2^n$ . \n",
    "\n",
    "$U_s$ is called as the *Diffuser* which inverts the states around the mean. \n",
    "Let's see how $U_s$ affects the superposition of states. \n",
    "\n",
    "__E.g.__ 2 qubits, $|t\\rangle = |01\\rangle$\n",
    "$$\n",
    "|\\psi1\\rangle = \\frac{1}{2}(|00\\rangle - |01\\rangle + |10\\rangle + |11\\rangle)\n",
    "$$\n",
    "\n",
    "1. Apply Hadamard gates to each qubit\n",
    "$$\n",
    "|\\psi'_1\\rangle = H^{\\otimes 2}|\\psi_1\\rangle  = \\frac{1}{2}(|00\\rangle + |01\\rangle - |10\\rangle + |11\\rangle)\n",
    "$$\n",
    "\n",
    "\n",
    "2. Apply phase \n",
    "$|0\\rangle \\to |0\\rangle, |x\\rangle \\to - |x\\rangle$ for $x > 0$   \n",
    "$$\n",
    "U_{phase} = Diag\\{1, -1, ..., -1\\} = -Diag\\{-1, 1,...,1\\} = - CPhase_0 \n",
    "$$\n",
    "where $CPhase_0$ is a conditional phase shift to $|0\\rangle$ only. \n",
    "\n",
    "$$\n",
    "|\\psi'_2\\rangle = U_{phase}|\\psi'_1\\rangle = \\frac{1}{2}(|00\\rangle - |01\\rangle + |10\\rangle - |11\\rangle)\n",
    "$$\n",
    "3. Apply Hadamard gates to each qubit\n",
    "$$\n",
    "|\\psi'_3\\rangle = H^{\\otimes 2}|\\psi'_2\\rangle = |01\\rangle = |\\psi_2\\rangle\n",
    "$$\n",
    "\n",
    "\n",
    "__Geometric Interpretation :__ Geometrically, $U_s = 2|s\\rangle\\langle s | - I$ corresponds to the reflection about the state $|s\\rangle$. \n",
    "\n",
    "<img src=\"images/grover3.jpg\" alt=\"grover2\" width=\"300\"/>"
   ]
  },
  {
   "cell_type": "markdown",
   "metadata": {},
   "source": [
    "__Task :__ Show that in the two-qubit case, $U_{phase} = CZ_{01} Z_0 Z_1$ using `aer.unitary_simulator`. "
   ]
  },
  {
   "cell_type": "markdown",
   "metadata": {},
   "source": []
  },
  {
   "cell_type": "code",
   "execution_count": 25,
   "metadata": {},
   "outputs": [],
   "source": [
    "def Uphase(qc) : \n",
    "    if n_qubits == 2: \n",
    "        ###### To do ######\n",
    "        qc.z(0)\n",
    "        qc.z(1)\n",
    "        qc.cz(0, 1)\n",
    "        ###################\n",
    "    #elif n_qubits == 3 :  # Uncomment for advanced task\n",
    "    return qc"
   ]
  },
  {
   "cell_type": "code",
   "execution_count": 26,
   "metadata": {},
   "outputs": [
    {
     "name": "stdout",
     "output_type": "stream",
     "text": [
      "Operator([[ 1.+0.j,  0.+0.j,  0.+0.j,  0.+0.j],\n",
      "          [-0.+0.j, -1.+0.j, -0.+0.j, -0.+0.j],\n",
      "          [-0.+0.j, -0.+0.j, -1.+0.j, -0.+0.j],\n",
      "          [ 0.+0.j,  0.+0.j,  0.+0.j, -1.+0.j]],\n",
      "         input_dims=(2, 2), output_dims=(2, 2))\n"
     ]
    }
   ],
   "source": [
    "unitary_simulator = Aer.get_backend('unitary_simulator')\n",
    "\n",
    "###### To do ######\n",
    "circuit = QuantumCircuit(2)\n",
    "circuit = Uphase(circuit)\n",
    "\n",
    "job = unitary_simulator.run(circuit)\n",
    "result = job.result()\n",
    "\n",
    "###################\n",
    "\n",
    "# Show the results\n",
    "print(result.get_unitary(circuit, decimals=3))\n",
    "\n"
   ]
  },
  {
   "cell_type": "code",
   "execution_count": 27,
   "metadata": {},
   "outputs": [],
   "source": [
    "def amplitude_amplification(qc) : \n",
    "    for i in range(n_qubits) : \n",
    "        qc.h(i) \n",
    "    \n",
    "    qc = Uphase(qc) \n",
    "\n",
    "    for i in range(n_qubits) : \n",
    "        qc.h(i)\n",
    "\n",
    "    return qc"
   ]
  },
  {
   "cell_type": "markdown",
   "metadata": {},
   "source": [
    "### Step 4. Iteration \n",
    "\n",
    "As we have seen above, the combined transformation $U_sU_w$ rotates the initial vector with an angle $2\\theta$ towards the target state $|t\\rangle$. After $k$ iterations of $U_sU_w$, we expect the probability of measuring $|t\\rangle$ to be optimal. \n",
    "\n",
    "$$\n",
    "\\frac{\\pi}{2} = (2k + 1)\\theta = (2k + 1)\\arcsin \\frac{1}{\\sqrt{N}} \\\\\n",
    "\\to k = \\frac{\\pi}{4\\arcsin{\\sqrt{1/N}}} - \\frac{1}{2} =  \\frac{\\sqrt{N}\\pi}{4} - \\frac{1}{2} + \\mathcal{O}\\frac{1}{\\sqrt{N}},\n",
    "$$\n",
    "using $\\arcsin{x} = x + \\mathcal{O}(x^3)$. \n",
    "This demonstrates a quadratic speedup of Grover's algorithm compared to the classical search algorithm with the complexity $\\mathcal{O}(N)$. \n"
   ]
  },
  {
   "cell_type": "code",
   "execution_count": 28,
   "metadata": {},
   "outputs": [],
   "source": [
    "def grover(qc, target, n_iter) : \n",
    "    qc = initialization(qc) \n",
    "\n",
    "    for _ in range(n_iter) : \n",
    "        qc = Uw(qc, target)\n",
    "        qc = amplitude_amplification(qc) \n",
    "    \n",
    "    return qc"
   ]
  },
  {
   "cell_type": "code",
   "execution_count": 29,
   "metadata": {},
   "outputs": [
    {
     "name": "stdout",
     "output_type": "stream",
     "text": [
      "1\n"
     ]
    }
   ],
   "source": [
    "n_iter = floor(sqrt(2**n_qubits))\n",
    "n_iter = 1\n",
    "print(n_iter)\n",
    "target_state = '01'"
   ]
  },
  {
   "cell_type": "code",
   "execution_count": 30,
   "metadata": {},
   "outputs": [],
   "source": [
    "qasm_simulator = Aer.get_backend(\"qasm_simulator\")"
   ]
  },
  {
   "cell_type": "code",
   "execution_count": 31,
   "metadata": {},
   "outputs": [
    {
     "data": {
      "image/png": "[encoded data removed]",
      "text/plain": [
       "<Figure size 1082.05x284.278 with 1 Axes>"
      ]
     },
     "execution_count": 31,
     "metadata": {},
     "output_type": "execute_result"
    }
   ],
   "source": [
    "circuit = QuantumCircuit(n_qubits) \n",
    "circuit = grover(circuit, target_state, n_iter)\n",
    "circuit.measure_all() \n",
    "\n",
    "circuit.draw(output = 'mpl')"
   ]
  },
  {
   "cell_type": "code",
   "execution_count": 32,
   "metadata": {},
   "outputs": [
    {
     "data": {
      "image/png": "[encoded data removed]",
      "text/plain": [
       "<Figure size 700x500 with 1 Axes>"
      ]
     },
     "execution_count": 32,
     "metadata": {},
     "output_type": "execute_result"
    }
   ],
   "source": [
    "from qiskit.visualization import plot_histogram\n",
    "\n",
    "job = qasm_simulator.run(circuit, shots = 1024)\n",
    "\n",
    "# Execute the job\n",
    "result = job.result() \n",
    "\n",
    "counts = result.get_counts() \n",
    "\n",
    "plot_histogram(counts)"
   ]
  },
  {
   "cell_type": "markdown",
   "metadata": {},
   "source": [
    "### Advanced task \n",
    "\n",
    "Correct the codes above to implement the Grover's algorithm for 3 qubits case."
   ]
  }
 ],
 "metadata": {
  "kernelspec": {
   "display_name": "base",
   "language": "python",
   "name": "python3"
  },
  "language_info": {
   "codemirror_mode": {
    "name": "ipython",
    "version": 3
   },
   "file_extension": ".py",
   "mimetype": "text/x-python",
   "name": "python",
   "nbconvert_exporter": "python",
   "pygments_lexer": "ipython3",
   "version": "3.11.4"
  },
  "orig_nbformat": 4
 },
 "nbformat": 4,
 "nbformat_minor": 2
}
